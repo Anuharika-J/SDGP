{
 "cells": [
  {
   "cell_type": "code",
   "execution_count": 3,
   "id": "bb525f3a",
   "metadata": {},
   "outputs": [],
   "source": [
    "import librosa\n",
    "import numpy as np\n",
    "from tensorflow.keras.models import load_model\n",
    "from pydub import AudioSegment\n",
    "import os\n",
    "from python_speech_features import mfcc\n"
   ]
  },
  {
   "cell_type": "code",
   "execution_count": 4,
   "id": "cd831560",
   "metadata": {},
   "outputs": [
    {
     "name": "stdout",
     "output_type": "stream",
     "text": [
      "1/1 [==============================] - 1s 1s/step\n",
      "[[0.7257257]\n",
      " [0.9995038]\n",
      " [0.9999471]]\n"
     ]
    }
   ],
   "source": [
    "#input audio file\n",
    "input= \"input.wav\"\n",
    "#output folder to save clips and mfccs\n",
    "output_folder = \"output\"\n",
    "\n",
    "# creating a folder is output folder is not existing\n",
    "if not os.path.exists(output_folder):\n",
    "    os.makedirs(output_folder)\n",
    "\n",
    "#loading the audio file\n",
    "audio = AudioSegment.from_wav(input)\n",
    "\n",
    "#get the length of the audio clip\n",
    "duration = len(audio)\n",
    "\n",
    "#setting clip length\n",
    "clip_length = 5000\n",
    "\n",
    "#splitting to 5 seconds clips\n",
    "for i in range(0, duration, clip_length):\n",
    "    start_time = i\n",
    "    end_time = i + clip_length\n",
    "    \n",
    "    clip = audio[start_time:end_time]\n",
    "    \n",
    "    #save the clips in the folder\n",
    "    output_file = os.path.join(output_folder, f\"clip{i//clip_length}.wav\")\n",
    "    clip.export(output_file, format=\"wav\")\n",
    "\n",
    "for file_name in os.listdir(output_folder):\n",
    "    if file_name.endswith('.wav'):\n",
    "        #loading the audio file\n",
    "        audio_path = os.path.join(output_folder, file_name)\n",
    "        audio, sr = librosa.load(audio_path, sr=44100)\n",
    "\n",
    "        #processing the audio clips to 5 seconds\n",
    "        duration = 5 # in seconds\n",
    "        samples = sr * duration\n",
    "        audio = librosa.resample(audio, orig_sr=sr, target_sr=22050)\n",
    "        if len(audio) > samples:\n",
    "            audio = audio[:samples]\n",
    "        else:\n",
    "            audio = np.pad(audio, (0, samples - len(audio)), mode='constant')\n",
    "\n",
    "        #extract the features\n",
    "        mfccs = librosa.feature.mfcc(y=audio, sr=22050, n_mfcc=13, n_fft=2048, hop_length=512)\n",
    "\n",
    "        #fave the mfccs\n",
    "        mfcc_path = os.path.join(output_folder, file_name.replace('.wav', '.npy'))\n",
    "        np.save(mfcc_path, mfccs)\n",
    "\n",
    "mfccs = []\n",
    "for file_name in os.listdir(output_folder):\n",
    "    if file_name.endswith('.npy'):\n",
    "        #load the mfccs\n",
    "        mfcc_path = os.path.join(output_folder, file_name)\n",
    "        mfcc = np.load(mfcc_path)\n",
    "        # appending the mfccs to the list\n",
    "        mfccs.append(mfcc)\n",
    "\n",
    "#convert the list to a numpy array\n",
    "mfccs = np.array(mfccs)\n",
    "\n",
    "#loading the trained model\n",
    "model = load_model('model3.h5')\n",
    "\n",
    "#Making the predictions\n",
    "predictions = model.predict(mfccs)\n",
    "\n",
    "#Printing the predictions\n",
    "print(predictions)\n",
    "\n"
   ]
  },
  {
   "cell_type": "code",
   "execution_count": 5,
   "id": "bf8c2e9b",
   "metadata": {},
   "outputs": [],
   "source": [
    "def average_prediction(predictions):\n",
    "    total = 0\n",
    "    for prediction in predictions:\n",
    "        total += prediction\n",
    "    return total / len(predictions)"
   ]
  },
  {
   "cell_type": "code",
   "execution_count": 6,
   "id": "84ff5beb",
   "metadata": {
    "scrolled": true
   },
   "outputs": [
    {
     "name": "stdout",
     "output_type": "stream",
     "text": [
      "[90.83922]\n"
     ]
    }
   ],
   "source": [
    "final_prediction = average_prediction(predictions)\n",
    "print(final_prediction*100)"
   ]
  },
  {
   "cell_type": "code",
   "execution_count": 7,
   "id": "bda2ad61",
   "metadata": {},
   "outputs": [
    {
     "name": "stdout",
     "output_type": "stream",
     "text": [
      "You are depressed\n"
     ]
    }
   ],
   "source": [
    "if(final_prediction>0.85):\n",
    "    print(\"You are depressed\")\n",
    "elif(final_prediction>0.5):\n",
    "    print(\"You are more likely to be depressed\")\n",
    "else:\n",
    "    print(\"You are less likely to be depressed\")"
   ]
  },
  {
   "cell_type": "code",
   "execution_count": null,
   "id": "807521cc",
   "metadata": {},
   "outputs": [],
   "source": []
  },
  {
   "cell_type": "code",
   "execution_count": null,
   "id": "6f702e81",
   "metadata": {},
   "outputs": [],
   "source": []
  }
 ],
 "metadata": {
  "kernelspec": {
   "display_name": "Python 3 (ipykernel)",
   "language": "python",
   "name": "python3"
  },
  "language_info": {
   "codemirror_mode": {
    "name": "ipython",
    "version": 3
   },
   "file_extension": ".py",
   "mimetype": "text/x-python",
   "name": "python",
   "nbconvert_exporter": "python",
   "pygments_lexer": "ipython3",
   "version": "3.9.13"
  }
 },
 "nbformat": 4,
 "nbformat_minor": 5
}
